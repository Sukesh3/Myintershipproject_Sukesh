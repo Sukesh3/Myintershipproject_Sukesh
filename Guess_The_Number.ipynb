{
  "nbformat": 4,
  "nbformat_minor": 0,
  "metadata": {
    "colab": {
      "provenance": []
    },
    "kernelspec": {
      "name": "python3",
      "display_name": "Python 3"
    },
    "language_info": {
      "name": "python"
    }
  },
  "cells": [
    {
      "cell_type": "code",
      "source": [
        "import random\n",
        "\n",
        "num = random.randint(1, 10)\n",
        "guess = None\n",
        "\n",
        "while guess != num:\n",
        "    guess = input(\"guess a number between 1 and 10: \")\n",
        "    guess = int(guess)\n",
        "\n",
        "    if guess == num:\n",
        "        print(\"congratulations! you won!\")\n",
        "        break\n",
        "    else:\n",
        "        print(\"nope, sorry. try again!\")"
      ],
      "metadata": {
        "colab": {
          "base_uri": "https://localhost:8080/"
        },
        "id": "QRUManpkn8rf",
        "outputId": "4a561549-0859-41f6-9ea6-789efcdd54ca"
      },
      "execution_count": 3,
      "outputs": [
        {
          "output_type": "stream",
          "name": "stdout",
          "text": [
            "guess a number between 1 and 10: 2\n",
            "nope, sorry. try again!\n",
            "guess a number between 1 and 10: 4\n",
            "nope, sorry. try again!\n",
            "guess a number between 1 and 10: 1\n",
            "nope, sorry. try again!\n",
            "guess a number between 1 and 10: 10\n",
            "nope, sorry. try again!\n",
            "guess a number between 1 and 10: 5\n",
            "nope, sorry. try again!\n",
            "guess a number between 1 and 10: 3\n",
            "nope, sorry. try again!\n",
            "guess a number between 1 and 10: 6\n",
            "nope, sorry. try again!\n",
            "guess a number between 1 and 10: 7\n",
            "congratulations! you won!\n"
          ]
        }
      ]
    }
  ]
}