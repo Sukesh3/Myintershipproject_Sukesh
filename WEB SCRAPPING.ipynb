{
  "nbformat": 4,
  "nbformat_minor": 0,
  "metadata": {
    "colab": {
      "provenance": []
    },
    "kernelspec": {
      "name": "python3",
      "display_name": "Python 3"
    },
    "language_info": {
      "name": "python"
    }
  },
  "cells": [
    {
      "cell_type": "code",
      "execution_count": 2,
      "metadata": {
        "id": "xw4E7d71a8vE"
      },
      "outputs": [],
      "source": [
        "import requests\n",
        "from bs4 import BeautifulSoup\n",
        "books=[]\n",
        "for i in range(1,4):\n",
        "  url=f\"https://books.toscrape.com/catalogue/page-{i}.html\"\n",
        "  response=requests.get(url)\n",
        "  response=response.content\n",
        "  soup=BeautifulSoup(resonse,'html.paser')\n",
        "  ol=soup.find('ol')\n",
        "  articles=ol.find_all('article',class_='product_pod')\n",
        "  for article in articles:\n",
        "    image=article.find('img')\n",
        "    title=image.attrs['alt']\n",
        "    star=article.find('p')\n",
        "    star=star['class'][1]\n",
        "    price=article.find('p',class_='price color').text\n",
        "    price=float(price[1:])\n",
        "    books.append([title,price,star])\n"
      ]
    },
    {
      "cell_type": "code",
      "source": [
        "from bs4 import BeautifulSoup"
      ],
      "metadata": {
        "id": "U2nPXvi4exCX"
      },
      "execution_count": 3,
      "outputs": []
    },
    {
      "cell_type": "code",
      "source": [
        "import pandas as pd"
      ],
      "metadata": {
        "id": "vlnja7k3etMg"
      },
      "execution_count": 4,
      "outputs": []
    },
    {
      "cell_type": "code",
      "source": [
        "books=[]\n",
        "for i in range(1,4):\n",
        "  url=f\"https://books.toscrape.com/catalogue/page-{i}.html\"\n",
        "  response=requests.get(url)\n",
        "  response=response.content\n",
        "  soup=BeautifulSoup(response,'html.parser')\n",
        "  ol=soup.find('ol')\n",
        "  articles=ol.find_all('article',class_='product_pod')\n",
        "  for article in articles:\n",
        "    image=article.find('img')\n",
        "    title=image.attrs['alt']\n",
        "    star=article.find('p')\n",
        "    star=star['class'][1]\n",
        "    price=article.find('p',class_='price_color').text\n",
        "    price=float(price[1:])\n",
        "    books.append([title,price,star])"
      ],
      "metadata": {
        "id": "cW5urmFBe_qd"
      },
      "execution_count": 8,
      "outputs": []
    },
    {
      "cell_type": "code",
      "source": [
        "df=pd.DataFrame(books,columns=['Title','Price','Star Rating'])"
      ],
      "metadata": {
        "id": "CyiqFOO_fzYx"
      },
      "execution_count": 11,
      "outputs": []
    },
    {
      "cell_type": "code",
      "source": [
        "df.to_csv('books.csv')"
      ],
      "metadata": {
        "id": "U3IJvJu_hqhV"
      },
      "execution_count": 12,
      "outputs": []
    }
  ]
}